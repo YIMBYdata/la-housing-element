{
 "cells": [
  {
   "cell_type": "code",
   "execution_count": 1,
   "id": "5a3606d2",
   "metadata": {},
   "outputs": [],
   "source": [
    "import geopandas as gpd\n",
    "import pandas as pd"
   ]
  },
  {
   "cell_type": "markdown",
   "id": "185e1377",
   "metadata": {},
   "source": [
    "# Load data"
   ]
  },
  {
   "cell_type": "code",
   "execution_count": 2,
   "id": "e6cf8868",
   "metadata": {},
   "outputs": [],
   "source": [
    "parcels = gpd.read_file('la_parcels/Parcels.shp')"
   ]
  },
  {
   "cell_type": "code",
   "execution_count": 3,
   "id": "59315719",
   "metadata": {},
   "outputs": [
    {
     "data": {
      "text/plain": [
       "(881522, 18)"
      ]
     },
     "execution_count": 3,
     "metadata": {},
     "output_type": "execute_result"
    }
   ],
   "source": [
    "parcels.shape"
   ]
  },
  {
   "cell_type": "code",
   "execution_count": 4,
   "id": "4ffa6a42",
   "metadata": {},
   "outputs": [],
   "source": [
    "sites_df = pd.read_excel('Appendix 4.7 Candidate Sites For Rezoning-Table B.xlsx', skiprows=1)"
   ]
  },
  {
   "cell_type": "code",
   "execution_count": 5,
   "id": "01eb816e",
   "metadata": {},
   "outputs": [
    {
     "data": {
      "text/plain": [
       "0.9990280410166691"
      ]
     },
     "execution_count": 5,
     "metadata": {},
     "output_type": "execute_result"
    }
   ],
   "source": [
    "sites_df['PIN'].isin(parcels['PIN']).mean()"
   ]
  },
  {
   "cell_type": "code",
   "execution_count": 6,
   "id": "f31a1a48",
   "metadata": {},
   "outputs": [
    {
     "data": {
      "text/plain": [
       "260"
      ]
     },
     "execution_count": 6,
     "metadata": {},
     "output_type": "execute_result"
    }
   ],
   "source": [
    "(~sites_df['PIN'].isin(parcels['PIN'])).sum()"
   ]
  },
  {
   "cell_type": "markdown",
   "id": "0de8fb10",
   "metadata": {},
   "source": [
    "# Merge data"
   ]
  },
  {
   "cell_type": "code",
   "execution_count": 7,
   "id": "325a454c",
   "metadata": {},
   "outputs": [],
   "source": [
    "merged_df = parcels[['PIN', 'geometry']].merge(\n",
    "    sites_df,\n",
    "    how='right',\n",
    "    on='PIN'\n",
    ")"
   ]
  },
  {
   "cell_type": "markdown",
   "id": "9f4d7cb8",
   "metadata": {},
   "source": [
    "# Save merged data"
   ]
  },
  {
   "cell_type": "code",
   "execution_count": 10,
   "id": "2d575c87",
   "metadata": {},
   "outputs": [],
   "source": [
    "merged_df_crs = merged_df.to_crs('EPSG:4326')\n",
    "\n",
    "merged_df_crs['units'] = (\n",
    "    pd.to_numeric(merged_df_crs['Maximum Density Allowed'], errors='coerce')\n",
    "    * merged_df_crs['Parcel Size\\n(Acres)']\n",
    ").round(1)\n",
    "\n",
    "merged_df_crs['density'] = pd.to_numeric(\n",
    "    merged_df_crs['Maximum Density Allowed'],\n",
    "    errors='coerce'\n",
    ")\n",
    "\n",
    "merged_df_crs['zoning'] = merged_df_crs['Current Zoning']"
   ]
  },
  {
   "cell_type": "code",
   "execution_count": 11,
   "id": "96eb4d69",
   "metadata": {},
   "outputs": [
    {
     "data": {
      "text/plain": [
       "array([-118.66755417,   33.7064461 , -118.1555711 ,   34.32457583])"
      ]
     },
     "execution_count": 11,
     "metadata": {},
     "output_type": "execute_result"
    }
   ],
   "source": [
    "merged_df_crs.geometry.total_bounds"
   ]
  },
  {
   "cell_type": "code",
   "execution_count": 12,
   "id": "0dc6d4ba",
   "metadata": {},
   "outputs": [],
   "source": [
    "merged_df_crs[[\n",
    "    'geometry', 'zoning', 'units', 'density'\n",
    "]].dropna(subset=['geometry']).to_file('out.geojson', driver='GeoJSON')"
   ]
  },
  {
   "cell_type": "code",
   "execution_count": 13,
   "id": "79c64a73",
   "metadata": {},
   "outputs": [
    {
     "name": "stderr",
     "output_type": "stream",
     "text": [
      "/var/folders/y6/q_9gyvlj7ln20t8tgvcpmfcr0000gn/T/ipykernel_3675/3972787880.py:2: UserWarning: Geometry is in a geographic CRS. Results from 'centroid' are likely incorrect. Use 'GeoSeries.to_crs()' to re-project geometries to a projected CRS before this operation.\n",
      "\n",
      "  points_df.geometry = points_df.geometry.centroid\n"
     ]
    }
   ],
   "source": [
    "points_df = merged_df_crs.copy()\n",
    "points_df.geometry = points_df.geometry.centroid\n",
    "\n",
    "points_df[[\n",
    "    'geometry', 'zoning', 'units', 'density'\n",
    "]].dropna(subset=['geometry']).to_file('points.geojson', driver='GeoJSON')"
   ]
  }
 ],
 "metadata": {
  "kernelspec": {
   "display_name": "Python 3 (ipykernel)",
   "language": "python",
   "name": "python3"
  },
  "language_info": {
   "codemirror_mode": {
    "name": "ipython",
    "version": 3
   },
   "file_extension": ".py",
   "mimetype": "text/x-python",
   "name": "python",
   "nbconvert_exporter": "python",
   "pygments_lexer": "ipython3",
   "version": "3.8.1"
  }
 },
 "nbformat": 4,
 "nbformat_minor": 5
}
